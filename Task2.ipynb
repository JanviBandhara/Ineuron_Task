{
 "cells": [
  {
   "cell_type": "code",
   "execution_count": 5,
   "id": "a589f359",
   "metadata": {},
   "outputs": [
    {
     "name": "stdout",
     "output_type": "stream",
     "text": [
      "Enter Integer Number :- 8\n",
      "\n",
      "\n",
      "Ineuron \n",
      "\n",
      "Ineuron Ineuron \n",
      "\n",
      "Ineuron Ineuron Ineuron \n",
      "\n",
      "Ineuron Ineuron Ineuron Ineuron \n",
      "\n",
      "Ineuron Ineuron Ineuron Ineuron Ineuron \n",
      "\n",
      "Ineuron Ineuron Ineuron Ineuron Ineuron Ineuron \n",
      "\n",
      "Ineuron Ineuron Ineuron Ineuron Ineuron Ineuron Ineuron \n",
      "\n"
     ]
    }
   ],
   "source": [
    "'''q1 :\n",
    "ineruon \n",
    "ineruon ineruon \n",
    "ineruon ineruon ineruon\n",
    "ineruon ineruon ineruon ineruon'''\n",
    "n = int(input(\"Enter Integer Number :- \"))\n",
    "for i in range(n):\n",
    "    for j in range(i):\n",
    "        print(\"Ineuron\",end = \" \")\n",
    "    print(\"\\n\")"
   ]
  },
  {
   "cell_type": "code",
   "execution_count": 16,
   "id": "b0721987",
   "metadata": {},
   "outputs": [
    {
     "name": "stdout",
     "output_type": "stream",
     "text": [
      "                        ineuron  \n",
      "                ineuron ineuron ineuron  \n",
      "        ineuron ineuron ineuron ineuron ineuron  \n",
      "                ineuron ineuron ineuron  \n",
      "                        ineuron  \n"
     ]
    }
   ],
   "source": [
    "'''q2 - \n",
    "\n",
    "          ineruon\n",
    "    ineruon      ineruon\n",
    "ineruon\t\tineruon \tineruon\n",
    "\tineruon\t\t ineruon\n",
    "\t\t  ineruon'''\n",
    "n = 3\n",
    "k= n-1\n",
    "for i in range(n-1):\n",
    "    for j in range(i,n):\n",
    "        print(len(\"ineuron\") * \" \",end = \" \")\n",
    "    for j in range(i):\n",
    "        print(\"ineuron\",end= \" \")\n",
    "    for j in range(i+1):\n",
    "        print(\"ineuron\",end= \" \")\n",
    "    print(\" \")\n",
    "for i in range(n):\n",
    "    for j in range(i+1):\n",
    "        print(len(\"ineuron\") * \" \",end = \" \")\n",
    "    for j in range(i,n-1):\n",
    "        print(\"ineuron\",end = \" \")\n",
    "    for j in range(i,n):\n",
    "        print(\"ineuron\",end = \" \")\n",
    "    print(\" \")"
   ]
  },
  {
   "cell_type": "code",
   "execution_count": 1,
   "id": "58158065",
   "metadata": {},
   "outputs": [],
   "source": [
    "l = [[1,2,3,4] , (2,3,4,5,6) , (3,4,5,6,7) , set([23,4,5,45,4,4,5,45,45,4,5]) , {'k1' :\"sudh\" , \"k2\" : \"ineuron\",\"k3\":\"kumar\" , 3:6 , 7:8} , [\"ineuron\" , \"data science \"]]"
   ]
  },
  {
   "cell_type": "code",
   "execution_count": 12,
   "id": "ef15d57b",
   "metadata": {},
   "outputs": [
    {
     "name": "stdout",
     "output_type": "stream",
     "text": [
      "[1, 2, 3, 4]\n",
      "['ineuron', 'data science ']\n"
     ]
    }
   ],
   "source": [
    "# q3 : Try to extract all the list entity\n",
    "for i in l:\n",
    "    if type(i) == list:\n",
    "        print(i)"
   ]
  },
  {
   "cell_type": "code",
   "execution_count": 28,
   "id": "91e55b99",
   "metadata": {},
   "outputs": [
    {
     "name": "stdout",
     "output_type": "stream",
     "text": [
      "dict_keys(['k1', 'k2', 'k3', 3, 7])\n"
     ]
    }
   ],
   "source": [
    "# q4 : Try to extract all the dict enteties\n",
    "for i in l:\n",
    "    if type(i) == dict:\n",
    "        print(i)"
   ]
  },
  {
   "cell_type": "code",
   "execution_count": 14,
   "id": "13e72087",
   "metadata": {},
   "outputs": [
    {
     "name": "stdout",
     "output_type": "stream",
     "text": [
      "(2, 3, 4, 5, 6)\n",
      "(3, 4, 5, 6, 7)\n"
     ]
    }
   ],
   "source": [
    "# q5 : Try to extract all the tuples entities\n",
    "for i in l:\n",
    "    if type(i) == tuple:\n",
    "        print(i)"
   ]
  },
  {
   "cell_type": "code",
   "execution_count": 39,
   "id": "7702437b",
   "metadata": {},
   "outputs": [
    {
     "name": "stdout",
     "output_type": "stream",
     "text": [
      "1\n",
      "2\n",
      "3\n",
      "4\n",
      "2\n",
      "3\n",
      "4\n",
      "5\n",
      "6\n",
      "3\n",
      "4\n",
      "5\n",
      "6\n",
      "7\n",
      "45\n",
      "4\n",
      "5\n",
      "23\n",
      "3\n",
      "7\n",
      "6\n",
      "8\n"
     ]
    }
   ],
   "source": [
    "# q6 : Try to extract all the numerical data it may b a part of dict key and values \n",
    "for i in l:\n",
    "    for j in i:\n",
    "        if type(j)== int:\n",
    "            print(j)\n",
    "    if type(i) == dict:\n",
    "        for k in i.values():\n",
    "            if type(k) == int:\n",
    "                print(k)"
   ]
  },
  {
   "cell_type": "code",
   "execution_count": 41,
   "id": "f27fc1f4",
   "metadata": {},
   "outputs": [
    {
     "name": "stdout",
     "output_type": "stream",
     "text": [
      "156\n"
     ]
    }
   ],
   "source": [
    "# q7 : Try to give summation of all the numeric data \n",
    "Sum = 0\n",
    "for i in l:\n",
    "    for j in i:\n",
    "        if type(j)== int:\n",
    "            Sum = Sum +j\n",
    "    if type(i) == dict:\n",
    "        for k in i.values():\n",
    "            if type(k) == int:\n",
    "                Sum = Sum +k\n",
    "print(Sum)"
   ]
  },
  {
   "cell_type": "code",
   "execution_count": 46,
   "id": "1072bf00",
   "metadata": {},
   "outputs": [
    {
     "name": "stdout",
     "output_type": "stream",
     "text": [
      "1\n",
      "3\n"
     ]
    }
   ],
   "source": [
    "# q8 : Try to filter out all the odd values out all numeric data which is a part of a list\n",
    "for i in l:\n",
    "    if type(i) == list:\n",
    "        for j in i:\n",
    "            if type(j) == int:\n",
    "                if j%2!=0:\n",
    "                    print(j)"
   ]
  },
  {
   "cell_type": "code",
   "execution_count": 27,
   "id": "5d181565",
   "metadata": {},
   "outputs": [
    {
     "name": "stdout",
     "output_type": "stream",
     "text": [
      "ineuron\n",
      "ineuron\n"
     ]
    }
   ],
   "source": [
    "# q9 : Try to extract \"ineruon\" out of this data\n",
    "for i in l:\n",
    "    for j in i:\n",
    "        if j == 'ineuron':\n",
    "            print(j)\n",
    "    if type(i) ==dict:\n",
    "        for j in i.values():\n",
    "            if j == 'ineuron':\n",
    "                print(j)"
   ]
  },
  {
   "cell_type": "code",
   "execution_count": 30,
   "id": "f3496e04",
   "metadata": {},
   "outputs": [
    {
     "name": "stdout",
     "output_type": "stream",
     "text": [
      "1 : 1\n",
      "2 : 2\n",
      "3 : 4\n",
      "4 : 4\n",
      "2 : 2\n",
      "3 : 4\n",
      "4 : 4\n",
      "5 : 3\n",
      "6 : 3\n",
      "3 : 4\n",
      "4 : 4\n",
      "5 : 3\n",
      "6 : 3\n",
      "7 : 2\n",
      "45 : 1\n",
      "4 : 4\n",
      "5 : 3\n",
      "23 : 1\n",
      "k1 : 1\n",
      "k2 : 1\n",
      "k3 : 1\n",
      "3 : 4\n",
      "7 : 2\n",
      "sudh : 1\n",
      "ineuron : 2\n",
      "kumar : 1\n",
      "6 : 3\n",
      "8 : 1\n",
      "ineuron : 2\n",
      "data science  : 1\n"
     ]
    }
   ],
   "source": [
    "# q10 :Try to find out a number of occurances of all the data \n",
    "new_list = []\n",
    "for i in l:\n",
    "    for j in i:\n",
    "        new_list.append(j)\n",
    "    if type(i) == dict:\n",
    "        for j in i.values():\n",
    "            new_list.append(j)\n",
    "            \n",
    "for k in new_list:\n",
    "    print(k,\":\",new_list.count(k))\n",
    "        "
   ]
  },
  {
   "cell_type": "code",
   "execution_count": 51,
   "id": "4ac48641",
   "metadata": {},
   "outputs": [
    {
     "name": "stdout",
     "output_type": "stream",
     "text": [
      "5\n"
     ]
    }
   ],
   "source": [
    "# q11 : Try to find out number of keys in dict element\n",
    "total_key = 0\n",
    "for i in l:\n",
    "    if type(i) == dict:\n",
    "         for i in i.keys():\n",
    "            total_key +=1\n",
    "print(total_key)"
   ]
  },
  {
   "cell_type": "code",
   "execution_count": 52,
   "id": "53ba257b",
   "metadata": {},
   "outputs": [
    {
     "name": "stdout",
     "output_type": "stream",
     "text": [
      "k1\n",
      "k2\n",
      "k3\n",
      "ineuron\n",
      "data science \n"
     ]
    }
   ],
   "source": [
    "# q12 : Try to filter out all the string data \n",
    "for i in l:\n",
    "    for j in i:\n",
    "        if type(j) == str:\n",
    "            print(j)"
   ]
  },
  {
   "cell_type": "code",
   "execution_count": 4,
   "id": "cefa1e4e",
   "metadata": {},
   "outputs": [
    {
     "name": "stdout",
     "output_type": "stream",
     "text": [
      "k1\n",
      "k2\n",
      "k3\n",
      "ineuron\n"
     ]
    }
   ],
   "source": [
    "# q13 : Try to Find out alphanum in data\n",
    "for i in l:\n",
    "    for j in i:\n",
    "        if type(j) == str:\n",
    "            if j.isalnum() == True:\n",
    "                print(j)"
   ]
  },
  {
   "cell_type": "code",
   "execution_count": 21,
   "id": "2c1f03ec",
   "metadata": {},
   "outputs": [
    {
     "name": "stdout",
     "output_type": "stream",
     "text": [
      "List Multiplication :-  24\n",
      "tuple Multiplication :-  720\n",
      "tuple Multiplication :-  2520\n",
      "set Multiplication :-  20700\n",
      "Dict Multiplication :-  1008\n",
      "List Multiplication :-  1\n"
     ]
    }
   ],
   "source": [
    "# q14 : Try to find out multiplication of all numeric value in  the individual collection inside dataset \n",
    "list_count=1\n",
    "for i in l:\n",
    "    if type(i) == list:\n",
    "        for j in i:\n",
    "            if type(j)==int:\n",
    "                list_count= list_count*j\n",
    "        print(\"List Multiplication :- \",list_count)\n",
    "        list_count=1\n",
    "    elif type(i) == tuple:\n",
    "        for j in i:\n",
    "            if type(j)==int:\n",
    "                list_count= list_count*j\n",
    "        print(\"tuple Multiplication :- \",list_count)\n",
    "        list_count=1\n",
    "    elif type(i) == set:\n",
    "        for j in i:\n",
    "            if type(j)==int:\n",
    "                list_count= list_count*j\n",
    "        print(\"set Multiplication :- \",list_count)\n",
    "        list_count=1\n",
    "    elif type(i) == dict:\n",
    "        for j in i:\n",
    "            if type(j) == int:\n",
    "                list_count= list_count*j\n",
    "        for j in i.values():\n",
    "            if type(j) == int:\n",
    "                list_count= list_count*j\n",
    "        print(\"Dict Multiplication :- \",list_count)\n",
    "        list_count=1"
   ]
  },
  {
   "cell_type": "code",
   "execution_count": 25,
   "id": "7b5579b6",
   "metadata": {},
   "outputs": [
    {
     "name": "stdout",
     "output_type": "stream",
     "text": [
      "[1, 2, 3, 4, 2, 3, 4, 5, 6, 3, 4, 5, 6, 7, 45, 4, 5, 23, 'k1', 'k2', 'k3', 3, 7, 'sudh', 'ineuron', 'kumar', 6, 8, 'ineuron', 'data science ']\n"
     ]
    }
   ],
   "source": [
    "# q15 : Try to unwrape all the collection inside collection and create a flat list \n",
    "new_list = []\n",
    "for i in l:\n",
    "    for j in i:\n",
    "        new_list.append(j)\n",
    "    if type(i) == dict:\n",
    "        for j in i.values():\n",
    "            new_list.append(j)\n",
    "print(new_list)"
   ]
  }
 ],
 "metadata": {
  "kernelspec": {
   "display_name": "Python 3 (ipykernel)",
   "language": "python",
   "name": "python3"
  },
  "language_info": {
   "codemirror_mode": {
    "name": "ipython",
    "version": 3
   },
   "file_extension": ".py",
   "mimetype": "text/x-python",
   "name": "python",
   "nbconvert_exporter": "python",
   "pygments_lexer": "ipython3",
   "version": "3.9.7"
  }
 },
 "nbformat": 4,
 "nbformat_minor": 5
}
