{
 "cells": [
  {
   "cell_type": "code",
   "execution_count": 1,
   "id": "b7aac830",
   "metadata": {},
   "outputs": [],
   "source": [
    "#you have to send a jupyter notebook to shivan@ineuron.ai before next saturday class 21st of may .\n",
    "s = \"this is My First Python programming class and i am learNING python string and its function\""
   ]
  },
  {
   "cell_type": "code",
   "execution_count": 2,
   "id": "92c28f2e",
   "metadata": {},
   "outputs": [
    {
     "data": {
      "text/plain": [
       "'h   r tnrr'"
      ]
     },
     "execution_count": 2,
     "metadata": {},
     "output_type": "execute_result"
    }
   ],
   "source": [
    "# 1 . Try to extract data from index one to index 300 with a jump of 3 \n",
    "s[1:30:3]"
   ]
  },
  {
   "cell_type": "code",
   "execution_count": 3,
   "id": "9c821d0b",
   "metadata": {},
   "outputs": [
    {
     "data": {
      "text/plain": [
       "'noitcnuf sti dna gnirts nohtyp GNINrael ma i dna ssalc gnimmargorp nohtyP tsriF yM si siht'"
      ]
     },
     "execution_count": 3,
     "metadata": {},
     "output_type": "execute_result"
    }
   ],
   "source": [
    "# 2. Try to reverse a string without using reverse function \n",
    "s[::-1]"
   ]
  },
  {
   "cell_type": "code",
   "execution_count": 4,
   "id": "fa0925f1",
   "metadata": {},
   "outputs": [
    {
     "data": {
      "text/plain": [
       "['THIS',\n",
       " 'IS',\n",
       " 'MY',\n",
       " 'FIRST',\n",
       " 'PYTHON',\n",
       " 'PROGRAMMING',\n",
       " 'CLASS',\n",
       " 'AND',\n",
       " 'I',\n",
       " 'AM',\n",
       " 'LEARNING',\n",
       " 'PYTHON',\n",
       " 'STRING',\n",
       " 'AND',\n",
       " 'ITS',\n",
       " 'FUNCTION']"
      ]
     },
     "execution_count": 4,
     "metadata": {},
     "output_type": "execute_result"
    }
   ],
   "source": [
    "# 3. Try to split a string after conversion of entire string in uppercase \n",
    "s1 = s.upper()\n",
    "s1.split(\" \")"
   ]
  },
  {
   "cell_type": "code",
   "execution_count": 5,
   "id": "7f60ed63",
   "metadata": {},
   "outputs": [
    {
     "data": {
      "text/plain": [
       "'this is my first python programming class and i am learning python string and its function'"
      ]
     },
     "execution_count": 5,
     "metadata": {},
     "output_type": "execute_result"
    }
   ],
   "source": [
    "# 4. try to convert the whole string into lower case \n",
    "s.lower()"
   ]
  },
  {
   "cell_type": "code",
   "execution_count": 6,
   "id": "6776f148",
   "metadata": {},
   "outputs": [
    {
     "data": {
      "text/plain": [
       "'This is my first python programming class and i am learning python string and its function'"
      ]
     },
     "execution_count": 6,
     "metadata": {},
     "output_type": "execute_result"
    }
   ],
   "source": [
    "# 5 . Try to capitalize the whole string \n",
    "s.capitalize()"
   ]
  },
  {
   "cell_type": "code",
   "execution_count": null,
   "id": "c2032f9a",
   "metadata": {},
   "outputs": [],
   "source": [
    "# 6 . Write a difference between isalnum() and isalpha()\n",
    "isalpha() will check that whether all the characters in the string is of alphabet and return true, otherwise false\n",
    "isalnum() will check that whether the characters of the string are in numeric or alphabetic and will return true if condition matches, otherwise false"
   ]
  },
  {
   "cell_type": "code",
   "execution_count": 8,
   "id": "92bdb947",
   "metadata": {},
   "outputs": [
    {
     "data": {
      "text/plain": [
       "'Python  Learner'"
      ]
     },
     "execution_count": 8,
     "metadata": {},
     "output_type": "execute_result"
    }
   ],
   "source": [
    "# 7. Try to give an example of expand tab\n",
    "s2 = \"Python\\tLearner\"\n",
    "s2.expandtabs()"
   ]
  },
  {
   "cell_type": "code",
   "execution_count": 9,
   "id": "e83940b8",
   "metadata": {},
   "outputs": [
    {
     "data": {
      "text/plain": [
       "'Python Learner'"
      ]
     },
     "execution_count": 9,
     "metadata": {},
     "output_type": "execute_result"
    }
   ],
   "source": [
    "# 8 . Give an example of strip , lstrip and rstrip \n",
    "s3 = \"     Python Learner      \"\n",
    "s3.strip()"
   ]
  },
  {
   "cell_type": "code",
   "execution_count": 10,
   "id": "7f257967",
   "metadata": {},
   "outputs": [
    {
     "data": {
      "text/plain": [
       "'Python Learner      '"
      ]
     },
     "execution_count": 10,
     "metadata": {},
     "output_type": "execute_result"
    }
   ],
   "source": [
    "s3.lstrip()"
   ]
  },
  {
   "cell_type": "code",
   "execution_count": 11,
   "id": "f560c0d3",
   "metadata": {},
   "outputs": [
    {
     "data": {
      "text/plain": [
       "'     Python Learner'"
      ]
     },
     "execution_count": 11,
     "metadata": {},
     "output_type": "execute_result"
    }
   ],
   "source": [
    "s3.rstrip()"
   ]
  },
  {
   "cell_type": "code",
   "execution_count": 12,
   "id": "5fee8ca4",
   "metadata": {},
   "outputs": [
    {
     "data": {
      "text/plain": [
       "'cython learner'"
      ]
     },
     "execution_count": 12,
     "metadata": {},
     "output_type": "execute_result"
    }
   ],
   "source": [
    "# 9.  Replace a string charecter by another charector by taking your own example \n",
    "s4 = \"python learner\"\n",
    "s4.replace(\"p\",\"c\")"
   ]
  },
  {
   "cell_type": "code",
   "execution_count": 17,
   "id": "8a9dee4c",
   "metadata": {},
   "outputs": [
    {
     "data": {
      "text/plain": [
       "'**********Janvi**********'"
      ]
     },
     "execution_count": 17,
     "metadata": {},
     "output_type": "execute_result"
    }
   ],
   "source": [
    "# 10 . Try to give a defination of string center function with and exmple \n",
    "#Center() will make the text appear between the range specified in the center() nd the left and right side is filled with thw wtors which we have passed.\n",
    "txt = \"Janvi\"\n",
    "txt.center(25,'*')\n",
    "# Here txt appear from the index 20 and the rest is filled with asterisk"
   ]
  },
  {
   "cell_type": "code",
   "execution_count": 14,
   "id": "df6c4976",
   "metadata": {},
   "outputs": [],
   "source": [
    "# 11 . Write your own definition of compiler and interpretor without copy paste form internet in your own language\n",
    "-> Complier will take the whole program and complied it into machine languauge.\n",
    "-> Interpretor will interpeter the program line by line and then convert it into machine languauge which is understood by machines. \n",
    "-> If the first line contain error interpretor will throws the error whereas in complier the whole code complies afterwards error is shown.  "
   ]
  },
  {
   "cell_type": "code",
   "execution_count": 15,
   "id": "8df63782",
   "metadata": {},
   "outputs": [],
   "source": [
    "# 12 . Python is a interpreted of compiled language give a clear ans with your understanding \n",
    "-> Python is an interpreted languauge because in python the code is converted into machine languauge line by line.\n",
    "-> The code is compiled on the line-by-line basis in python that's why it is known an interpreted Languauge "
   ]
  },
  {
   "cell_type": "code",
   "execution_count": null,
   "id": "abf389bb",
   "metadata": {},
   "outputs": [],
   "source": [
    "# 13 . Try to write a usecase of python with your understanding .\n",
    "-> Python can be used in almost many things.\n",
    "-> Example :- apps development, writting ML,DL algorithms"
   ]
  }
 ],
 "metadata": {
  "kernelspec": {
   "display_name": "Python 3 (ipykernel)",
   "language": "python",
   "name": "python3"
  },
  "language_info": {
   "codemirror_mode": {
    "name": "ipython",
    "version": 3
   },
   "file_extension": ".py",
   "mimetype": "text/x-python",
   "name": "python",
   "nbconvert_exporter": "python",
   "pygments_lexer": "ipython3",
   "version": "3.9.12"
  }
 },
 "nbformat": 4,
 "nbformat_minor": 5
}
